{
 "cells": [
  {
   "cell_type": "code",
   "execution_count": null,
   "metadata": {},
   "outputs": [],
   "source": [
    "# api key yt\n",
    "# AIzaSyADstS5-rLfpvyNcaXn19H8chfiF7ouLAMpip install --upgrade google-auth google-auth-oauthlib google-auth-httplib2"
   ]
  }
 ],
 "metadata": {
  "kernelspec": {
   "display_name": "ytmusic",
   "language": "python",
   "name": "python3"
  },
  "language_info": {
   "name": "python",
   "version": "3.9.7"
  },
  "orig_nbformat": 4,
  "vscode": {
   "interpreter": {
    "hash": "8239c685b1f8d9ba2f0eaee73dc27e66bde5efbf47d137fa2bb4b2ff6035b5cc"
   }
  }
 },
 "nbformat": 4,
 "nbformat_minor": 2
}
