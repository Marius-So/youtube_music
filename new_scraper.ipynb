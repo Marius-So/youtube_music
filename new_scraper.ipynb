{
 "cells": [
  {
   "cell_type": "code",
   "execution_count": null,
   "metadata": {},
   "outputs": [],
   "source": [
    "import requests\n",
    "from bs4 import BeautifulSoup\n",
    "myURL = my-website-goes-here.com/sitemap.xml\n",
    "page = requests.get(myURL)\n",
    "soup = BeautifulSoup(page.content, 'html.parser')\n",
    "urls = soup.find_all('loc')\n",
    "for url in urls:\n",
    "    currentURL = url.get_text()\n",
    "    if ('.pdf' not in currentURL):\n",
    "        page = requests.get(currentURL)\n",
    "        soup = BeautifulSoup(page.content, 'html.parser')\n",
    "        title = soup.find('title')\n",
    "        print(title.get_text())"
   ]
  }
 ],
 "metadata": {
  "kernelspec": {
   "display_name": "ytmusic",
   "language": "python",
   "name": "python3"
  },
  "language_info": {
   "name": "python",
   "version": "3.9.7"
  },
  "orig_nbformat": 4,
  "vscode": {
   "interpreter": {
    "hash": "8239c685b1f8d9ba2f0eaee73dc27e66bde5efbf47d137fa2bb4b2ff6035b5cc"
   }
  }
 },
 "nbformat": 4,
 "nbformat_minor": 2
}
